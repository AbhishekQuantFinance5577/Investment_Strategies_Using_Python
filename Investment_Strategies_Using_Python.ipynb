{
 "cells": [
  {
   "cell_type": "raw",
   "id": "6f8535e7",
   "metadata": {},
   "source": [
    "---\n",
    "title: Project 1\n",
    "subtitle: FINA 6333 -- Spring 2024\n",
    "author: Richard Herron\n",
    "institute: D'Amore-McKim School of Business, Northeastern University\n",
    "execute:\n",
    "  echo: false\n",
    "  warning: false\n",
    "---"
   ]
  },
  {
   "cell_type": "code",
   "execution_count": 302,
   "id": "10e45daa",
   "metadata": {},
   "outputs": [],
   "source": [
    "import pandas as pd\n",
    "import numpy as np\n",
    "import seaborn as sns\n",
    "import yfinance as yf \n",
    "import matplotlib.pyplot as plt\n",
    "from datetime import datetime"
   ]
  },
  {
   "cell_type": "code",
   "execution_count": 303,
   "id": "561045cc",
   "metadata": {},
   "outputs": [
    {
     "data": {
      "text/html": [
       "<div>\n",
       "<style scoped>\n",
       "    .dataframe tbody tr th:only-of-type {\n",
       "        vertical-align: middle;\n",
       "    }\n",
       "\n",
       "    .dataframe tbody tr th {\n",
       "        vertical-align: top;\n",
       "    }\n",
       "\n",
       "    .dataframe thead th {\n",
       "        text-align: right;\n",
       "    }\n",
       "</style>\n",
       "<table border=\"1\" class=\"dataframe\">\n",
       "  <thead>\n",
       "    <tr style=\"text-align: right;\">\n",
       "      <th></th>\n",
       "      <th>Date</th>\n",
       "      <th>Open</th>\n",
       "      <th>High</th>\n",
       "      <th>Low</th>\n",
       "      <th>Close</th>\n",
       "      <th>Adj Close</th>\n",
       "      <th>Volume</th>\n",
       "    </tr>\n",
       "  </thead>\n",
       "  <tbody>\n",
       "    <tr>\n",
       "      <th>0</th>\n",
       "      <td>1993-01-29</td>\n",
       "      <td>43.968750</td>\n",
       "      <td>43.968750</td>\n",
       "      <td>43.750000</td>\n",
       "      <td>43.937500</td>\n",
       "      <td>24.840685</td>\n",
       "      <td>1003200</td>\n",
       "    </tr>\n",
       "    <tr>\n",
       "      <th>1</th>\n",
       "      <td>1993-01-02</td>\n",
       "      <td>43.968750</td>\n",
       "      <td>44.250000</td>\n",
       "      <td>43.968750</td>\n",
       "      <td>44.250000</td>\n",
       "      <td>25.017347</td>\n",
       "      <td>480500</td>\n",
       "    </tr>\n",
       "    <tr>\n",
       "      <th>2</th>\n",
       "      <td>1993-02-02</td>\n",
       "      <td>44.218750</td>\n",
       "      <td>44.375000</td>\n",
       "      <td>44.125000</td>\n",
       "      <td>44.343750</td>\n",
       "      <td>25.070368</td>\n",
       "      <td>201300</td>\n",
       "    </tr>\n",
       "    <tr>\n",
       "      <th>3</th>\n",
       "      <td>1993-03-02</td>\n",
       "      <td>44.406250</td>\n",
       "      <td>44.843750</td>\n",
       "      <td>44.375000</td>\n",
       "      <td>44.812500</td>\n",
       "      <td>25.335379</td>\n",
       "      <td>529400</td>\n",
       "    </tr>\n",
       "    <tr>\n",
       "      <th>4</th>\n",
       "      <td>1993-04-02</td>\n",
       "      <td>44.968750</td>\n",
       "      <td>45.093750</td>\n",
       "      <td>44.468750</td>\n",
       "      <td>45.000000</td>\n",
       "      <td>25.441374</td>\n",
       "      <td>531500</td>\n",
       "    </tr>\n",
       "    <tr>\n",
       "      <th>...</th>\n",
       "      <td>...</td>\n",
       "      <td>...</td>\n",
       "      <td>...</td>\n",
       "      <td>...</td>\n",
       "      <td>...</td>\n",
       "      <td>...</td>\n",
       "      <td>...</td>\n",
       "    </tr>\n",
       "    <tr>\n",
       "      <th>7818</th>\n",
       "      <td>2024-02-16</td>\n",
       "      <td>501.700012</td>\n",
       "      <td>502.869995</td>\n",
       "      <td>498.750000</td>\n",
       "      <td>499.510010</td>\n",
       "      <td>499.510010</td>\n",
       "      <td>75461200</td>\n",
       "    </tr>\n",
       "    <tr>\n",
       "      <th>7819</th>\n",
       "      <td>2024-02-20</td>\n",
       "      <td>497.720001</td>\n",
       "      <td>498.410004</td>\n",
       "      <td>494.450012</td>\n",
       "      <td>496.760010</td>\n",
       "      <td>496.760010</td>\n",
       "      <td>71736700</td>\n",
       "    </tr>\n",
       "    <tr>\n",
       "      <th>7820</th>\n",
       "      <td>2024-02-21</td>\n",
       "      <td>495.420013</td>\n",
       "      <td>497.369995</td>\n",
       "      <td>493.559998</td>\n",
       "      <td>497.209991</td>\n",
       "      <td>497.209991</td>\n",
       "      <td>59603800</td>\n",
       "    </tr>\n",
       "    <tr>\n",
       "      <th>7821</th>\n",
       "      <td>2024-02-22</td>\n",
       "      <td>504.010010</td>\n",
       "      <td>508.489990</td>\n",
       "      <td>503.019989</td>\n",
       "      <td>507.500000</td>\n",
       "      <td>507.500000</td>\n",
       "      <td>76402500</td>\n",
       "    </tr>\n",
       "    <tr>\n",
       "      <th>7822</th>\n",
       "      <td>2024-02-23</td>\n",
       "      <td>509.269989</td>\n",
       "      <td>510.130005</td>\n",
       "      <td>507.100006</td>\n",
       "      <td>508.010010</td>\n",
       "      <td>508.010010</td>\n",
       "      <td>34022580</td>\n",
       "    </tr>\n",
       "  </tbody>\n",
       "</table>\n",
       "<p>7823 rows × 7 columns</p>\n",
       "</div>"
      ],
      "text/plain": [
       "           Date        Open        High         Low       Close   Adj Close  \\\n",
       "0    1993-01-29   43.968750   43.968750   43.750000   43.937500   24.840685   \n",
       "1    1993-01-02   43.968750   44.250000   43.968750   44.250000   25.017347   \n",
       "2    1993-02-02   44.218750   44.375000   44.125000   44.343750   25.070368   \n",
       "3    1993-03-02   44.406250   44.843750   44.375000   44.812500   25.335379   \n",
       "4    1993-04-02   44.968750   45.093750   44.468750   45.000000   25.441374   \n",
       "...         ...         ...         ...         ...         ...         ...   \n",
       "7818 2024-02-16  501.700012  502.869995  498.750000  499.510010  499.510010   \n",
       "7819 2024-02-20  497.720001  498.410004  494.450012  496.760010  496.760010   \n",
       "7820 2024-02-21  495.420013  497.369995  493.559998  497.209991  497.209991   \n",
       "7821 2024-02-22  504.010010  508.489990  503.019989  507.500000  507.500000   \n",
       "7822 2024-02-23  509.269989  510.130005  507.100006  508.010010  508.010010   \n",
       "\n",
       "        Volume  \n",
       "0      1003200  \n",
       "1       480500  \n",
       "2       201300  \n",
       "3       529400  \n",
       "4       531500  \n",
       "...        ...  \n",
       "7818  75461200  \n",
       "7819  71736700  \n",
       "7820  59603800  \n",
       "7821  76402500  \n",
       "7822  34022580  \n",
       "\n",
       "[7823 rows x 7 columns]"
      ]
     },
     "execution_count": 303,
     "metadata": {},
     "output_type": "execute_result"
    }
   ],
   "source": [
    "\n",
    "spy = pd.read_csv('/Users/Dishayshah/desktop/SPY 93-2024.csv')\n",
    "spy['Date'] = pd.to_datetime(spy['Date'])\n",
    "date = spy['Date']\n",
    "spy"
   ]
  },
  {
   "cell_type": "code",
   "execution_count": 304,
   "id": "2c07e08d",
   "metadata": {
    "scrolled": true
   },
   "outputs": [],
   "source": [
    "spy.set_index('Date', inplace = True)"
   ]
  },
  {
   "cell_type": "code",
   "execution_count": 305,
   "id": "c7a9c1a5",
   "metadata": {},
   "outputs": [
    {
     "data": {
      "text/html": [
       "<div>\n",
       "<style scoped>\n",
       "    .dataframe tbody tr th:only-of-type {\n",
       "        vertical-align: middle;\n",
       "    }\n",
       "\n",
       "    .dataframe tbody tr th {\n",
       "        vertical-align: top;\n",
       "    }\n",
       "\n",
       "    .dataframe thead th {\n",
       "        text-align: right;\n",
       "    }\n",
       "</style>\n",
       "<table border=\"1\" class=\"dataframe\">\n",
       "  <thead>\n",
       "    <tr style=\"text-align: right;\">\n",
       "      <th></th>\n",
       "      <th>Open</th>\n",
       "      <th>High</th>\n",
       "      <th>Low</th>\n",
       "      <th>Close</th>\n",
       "      <th>Adj Close</th>\n",
       "      <th>Volume</th>\n",
       "    </tr>\n",
       "    <tr>\n",
       "      <th>Date</th>\n",
       "      <th></th>\n",
       "      <th></th>\n",
       "      <th></th>\n",
       "      <th></th>\n",
       "      <th></th>\n",
       "      <th></th>\n",
       "    </tr>\n",
       "  </thead>\n",
       "  <tbody>\n",
       "    <tr>\n",
       "      <th>1993-01-29</th>\n",
       "      <td>43.968750</td>\n",
       "      <td>43.968750</td>\n",
       "      <td>43.750000</td>\n",
       "      <td>43.937500</td>\n",
       "      <td>24.840685</td>\n",
       "      <td>1003200</td>\n",
       "    </tr>\n",
       "    <tr>\n",
       "      <th>1993-01-02</th>\n",
       "      <td>43.968750</td>\n",
       "      <td>44.250000</td>\n",
       "      <td>43.968750</td>\n",
       "      <td>44.250000</td>\n",
       "      <td>25.017347</td>\n",
       "      <td>480500</td>\n",
       "    </tr>\n",
       "    <tr>\n",
       "      <th>1993-02-02</th>\n",
       "      <td>44.218750</td>\n",
       "      <td>44.375000</td>\n",
       "      <td>44.125000</td>\n",
       "      <td>44.343750</td>\n",
       "      <td>25.070368</td>\n",
       "      <td>201300</td>\n",
       "    </tr>\n",
       "    <tr>\n",
       "      <th>1993-03-02</th>\n",
       "      <td>44.406250</td>\n",
       "      <td>44.843750</td>\n",
       "      <td>44.375000</td>\n",
       "      <td>44.812500</td>\n",
       "      <td>25.335379</td>\n",
       "      <td>529400</td>\n",
       "    </tr>\n",
       "    <tr>\n",
       "      <th>1993-04-02</th>\n",
       "      <td>44.968750</td>\n",
       "      <td>45.093750</td>\n",
       "      <td>44.468750</td>\n",
       "      <td>45.000000</td>\n",
       "      <td>25.441374</td>\n",
       "      <td>531500</td>\n",
       "    </tr>\n",
       "    <tr>\n",
       "      <th>...</th>\n",
       "      <td>...</td>\n",
       "      <td>...</td>\n",
       "      <td>...</td>\n",
       "      <td>...</td>\n",
       "      <td>...</td>\n",
       "      <td>...</td>\n",
       "    </tr>\n",
       "    <tr>\n",
       "      <th>2024-02-16</th>\n",
       "      <td>501.700012</td>\n",
       "      <td>502.869995</td>\n",
       "      <td>498.750000</td>\n",
       "      <td>499.510010</td>\n",
       "      <td>499.510010</td>\n",
       "      <td>75461200</td>\n",
       "    </tr>\n",
       "    <tr>\n",
       "      <th>2024-02-20</th>\n",
       "      <td>497.720001</td>\n",
       "      <td>498.410004</td>\n",
       "      <td>494.450012</td>\n",
       "      <td>496.760010</td>\n",
       "      <td>496.760010</td>\n",
       "      <td>71736700</td>\n",
       "    </tr>\n",
       "    <tr>\n",
       "      <th>2024-02-21</th>\n",
       "      <td>495.420013</td>\n",
       "      <td>497.369995</td>\n",
       "      <td>493.559998</td>\n",
       "      <td>497.209991</td>\n",
       "      <td>497.209991</td>\n",
       "      <td>59603800</td>\n",
       "    </tr>\n",
       "    <tr>\n",
       "      <th>2024-02-22</th>\n",
       "      <td>504.010010</td>\n",
       "      <td>508.489990</td>\n",
       "      <td>503.019989</td>\n",
       "      <td>507.500000</td>\n",
       "      <td>507.500000</td>\n",
       "      <td>76402500</td>\n",
       "    </tr>\n",
       "    <tr>\n",
       "      <th>2024-02-23</th>\n",
       "      <td>509.269989</td>\n",
       "      <td>510.130005</td>\n",
       "      <td>507.100006</td>\n",
       "      <td>508.010010</td>\n",
       "      <td>508.010010</td>\n",
       "      <td>34022580</td>\n",
       "    </tr>\n",
       "  </tbody>\n",
       "</table>\n",
       "<p>7823 rows × 6 columns</p>\n",
       "</div>"
      ],
      "text/plain": [
       "                  Open        High         Low       Close   Adj Close  \\\n",
       "Date                                                                     \n",
       "1993-01-29   43.968750   43.968750   43.750000   43.937500   24.840685   \n",
       "1993-01-02   43.968750   44.250000   43.968750   44.250000   25.017347   \n",
       "1993-02-02   44.218750   44.375000   44.125000   44.343750   25.070368   \n",
       "1993-03-02   44.406250   44.843750   44.375000   44.812500   25.335379   \n",
       "1993-04-02   44.968750   45.093750   44.468750   45.000000   25.441374   \n",
       "...                ...         ...         ...         ...         ...   \n",
       "2024-02-16  501.700012  502.869995  498.750000  499.510010  499.510010   \n",
       "2024-02-20  497.720001  498.410004  494.450012  496.760010  496.760010   \n",
       "2024-02-21  495.420013  497.369995  493.559998  497.209991  497.209991   \n",
       "2024-02-22  504.010010  508.489990  503.019989  507.500000  507.500000   \n",
       "2024-02-23  509.269989  510.130005  507.100006  508.010010  508.010010   \n",
       "\n",
       "              Volume  \n",
       "Date                  \n",
       "1993-01-29   1003200  \n",
       "1993-01-02    480500  \n",
       "1993-02-02    201300  \n",
       "1993-03-02    529400  \n",
       "1993-04-02    531500  \n",
       "...              ...  \n",
       "2024-02-16  75461200  \n",
       "2024-02-20  71736700  \n",
       "2024-02-21  59603800  \n",
       "2024-02-22  76402500  \n",
       "2024-02-23  34022580  \n",
       "\n",
       "[7823 rows x 6 columns]"
      ]
     },
     "execution_count": 305,
     "metadata": {},
     "output_type": "execute_result"
    }
   ],
   "source": [
    "spy"
   ]
  },
  {
   "cell_type": "markdown",
   "id": "bf7761e2",
   "metadata": {},
   "source": [
    "# Strategy 1"
   ]
  },
  {
   "cell_type": "code",
   "execution_count": 306,
   "id": "85daf708",
   "metadata": {},
   "outputs": [],
   "source": [
    "Adj_close = spy.iloc[:,[4]]\n"
   ]
  },
  {
   "cell_type": "code",
   "execution_count": 307,
   "id": "c91a6e5e",
   "metadata": {},
   "outputs": [],
   "source": [
    "initial_value = 10000\n",
    "shares_purchased = 10000/float(Adj_close.iloc[0])\n",
    "ending_value = shares_purchased*float(Adj_close.iloc[-1])\n",
    "\n",
    "Total_returns_strategy_1 = (ending_value-initial_value)/initial_value*100\n",
    "Risk_strategy_1 = spy['Adj Close'].pct_change().std()*np.sqrt(252)\n"
   ]
  },
  {
   "cell_type": "code",
   "execution_count": 308,
   "id": "b20517f0",
   "metadata": {},
   "outputs": [
    {
     "name": "stdout",
     "output_type": "stream",
     "text": [
      "Initial Value taken = 10000\n",
      "Shares Purchased = 402.5653881927974\n",
      "Total returns strategy 1 = 1945.072468814769\n",
      "Annual Risk of Strategy 1 = 0.18744173002015077\n"
     ]
    }
   ],
   "source": [
    "print('Initial Value taken =', initial_value)\n",
    "\n",
    "print(\"Shares Purchased =\", shares_purchased)\n",
    "\n",
    "print('Total returns strategy 1 =',Total_returns_strategy_1)\n",
    "\n",
    "print('Annual Risk of Strategy 1 =',Risk_strategy_1)"
   ]
  },
  {
   "cell_type": "code",
   "execution_count": 309,
   "id": "0e45a68a",
   "metadata": {},
   "outputs": [],
   "source": [
    "Strategy_1 = pd.DataFrame({\n",
    "    'initial_value' : initial_value,\n",
    "    'shares_purchased' : shares_purchased,\n",
    "    'ending_value' : ending_value,\n",
    "    'total_return' : Total_returns_strategy_1\n",
    "},index=[1])"
   ]
  },
  {
   "cell_type": "markdown",
   "id": "9c1dee21",
   "metadata": {},
   "source": [
    "# Distribution of daily returns"
   ]
  },
  {
   "cell_type": "code",
   "execution_count": 310,
   "id": "cb80b41f",
   "metadata": {},
   "outputs": [
    {
     "name": "stderr",
     "output_type": "stream",
     "text": [
      "/var/folders/h9/pjqxkmqd5zj_xnq0hhrrl07w0000gn/T/ipykernel_60173/2173393626.py:4: FutureWarning: Value based partial slicing on non-monotonic DatetimeIndexes with non-existing keys is deprecated and will raise a KeyError in a future Version.\n",
      "  period1 = his_data.loc['1993':'2003']['Adj Close']\n",
      "/var/folders/h9/pjqxkmqd5zj_xnq0hhrrl07w0000gn/T/ipykernel_60173/2173393626.py:5: FutureWarning: Value based partial slicing on non-monotonic DatetimeIndexes with non-existing keys is deprecated and will raise a KeyError in a future Version.\n",
      "  period2 = his_data.loc['2004':'2013']['Adj Close']\n",
      "/var/folders/h9/pjqxkmqd5zj_xnq0hhrrl07w0000gn/T/ipykernel_60173/2173393626.py:6: FutureWarning: Value based partial slicing on non-monotonic DatetimeIndexes with non-existing keys is deprecated and will raise a KeyError in a future Version.\n",
      "  period3 = his_data.loc['2014':'2024']['Adj Close']\n"
     ]
    },
    {
     "data": {
      "image/png": "[encoded data removed]",
      "text/plain": [
       "<Figure size 1500x1000 with 1 Axes>"
      ]
     },
     "metadata": {},
     "output_type": "display_data"
    }
   ],
   "source": [
    "\n",
    "his_data = spy.pct_change().dropna()\n",
    "his_data\n",
    "\n",
    "period1 = his_data.loc['1993':'2003']['Adj Close']\n",
    "period2 = his_data.loc['2004':'2013']['Adj Close']\n",
    "period3 = his_data.loc['2014':'2024']['Adj Close']\n",
    "\n",
    "plt.figure(figsize=(15, 10))\n",
    "plt.hist(period2, bins=50, color='orange', alpha=1, label='2004-2013')\n",
    "plt.hist(period3, bins=50, color='green', alpha=1, label='2014-2024')\n",
    "plt.hist(period1, bins=50, color='skyblue', alpha=1, label='1993-2003')\n",
    "\n",
    "plt.title('Distribution of Daily Returns by Decade for SPY ETF')\n",
    "plt.xlabel('Daily Return')\n",
    "plt.ylabel('Frequency')\n",
    "plt.legend()\n",
    "plt.show()"
   ]
  },
  {
   "cell_type": "markdown",
   "id": "bb2d00f8",
   "metadata": {},
   "source": [
    "# Kernel density of 10 year returns"
   ]
  },
  {
   "cell_type": "code",
   "execution_count": 311,
   "id": "b87b7f5f",
   "metadata": {},
   "outputs": [
    {
     "data": {
      "image/png": "[encoded data removed]",
      "text/plain": [
       "<Figure size 1500x1000 with 1 Axes>"
      ]
     },
     "metadata": {},
     "output_type": "display_data"
    }
   ],
   "source": [
    "plt.figure(figsize=(15, 10))\n",
    "\n",
    "\n",
    "sns.kdeplot(period1, color='red', label='1993-2003')\n",
    "sns.kdeplot(period2, color='orange', label='2004-2013')\n",
    "sns.kdeplot(period3, color='green', label='2014-2024', linestyle=\":\")\n",
    "\n",
    "\n",
    "plt.title('KDE of Simple Returns (Daily) by 10 year period for SPY ETF')\n",
    "plt.xlabel('Daily Return')\n",
    "plt.ylabel('Density')\n",
    "plt.legend()\n",
    "\n",
    "plt.grid()\n",
    "plt.show()"
   ]
  },
  {
   "cell_type": "markdown",
   "id": "3607d0d5",
   "metadata": {},
   "source": [
    "- In Strategy 1 we are holding the SPY shares from its inception and therefore we get all the gains from the share, in terms of capital gains and the dividend payments. This is the reason that this strategy provides the highest retruns among the 4. Due to this reason, this strategy also has the highest annual risk. "
   ]
  },
  {
   "cell_type": "markdown",
   "id": "8cf27c8e",
   "metadata": {},
   "source": [
    "# Strategy 2"
   ]
  },
  {
   "cell_type": "code",
   "execution_count": 370,
   "id": "a67cb55f",
   "metadata": {
    "scrolled": true
   },
   "outputs": [],
   "source": [
    "\n",
    "Initial_investment = 10000\n",
    "cash = Initial_investment\n",
    "\n",
    "Investment = []\n",
    "Profit_losses = []\n",
    "Returns = []\n",
    "\n",
    "for index,row in spy.iterrows():\n",
    "    \n",
    "    Number_of_shares = cash / row['Open']\n",
    "    Investment_amount = cash\n",
    "    Closing_value = Number_of_shares*row['Close']\n",
    "    increase_decrease_in_capital = Closing_value\n",
    "    Profit_loss = Closing_value - Investment_amount\n",
    "    Return = Profit_loss/Investment_amount\n",
    "\n",
    "    Investment.append(Investment_amount)\n",
    "    Profit_losses.append(Profit_loss)\n",
    "    Returns.append(Return)\n",
    "\n",
    "    cash = increase_decrease_in_capital\n",
    "    \n",
    "Strategy_2 = pd.DataFrame({\n",
    "    'Investment Amount': Investment,\n",
    "    'Profit/Loss': Profit_losses,\n",
    "    'Return': Returns\n",
    "})\n"
   ]
  },
  {
   "cell_type": "code",
   "execution_count": 313,
   "id": "5ca216e4",
   "metadata": {},
   "outputs": [
    {
     "name": "stdout",
     "output_type": "stream",
     "text": [
      "Initial Value = 10000.0\n"
     ]
    }
   ],
   "source": [
    "print('Initial Value =',float(Strategy_2.iloc[0,[0]]))"
   ]
  },
  {
   "cell_type": "code",
   "execution_count": 314,
   "id": "60e71266",
   "metadata": {},
   "outputs": [
    {
     "name": "stdout",
     "output_type": "stream",
     "text": [
      "Final Value = 11866.391069041256\n"
     ]
    }
   ],
   "source": [
    "print('Final Value =', float(Strategy_2.iloc[-1,[0]]))"
   ]
  },
  {
   "cell_type": "code",
   "execution_count": 315,
   "id": "04823524",
   "metadata": {},
   "outputs": [],
   "source": [
    "strategy_2 = Strategy_2.set_index(date)"
   ]
  },
  {
   "cell_type": "code",
   "execution_count": 316,
   "id": "838703e7",
   "metadata": {},
   "outputs": [],
   "source": [
    "Total_returns_strategy_2 = ((float(Strategy_2.iloc[-1,[0]]))-(float(Strategy_2.iloc[0,[0]])))/(float(Strategy_2.iloc[0,[0]]))"
   ]
  },
  {
   "cell_type": "code",
   "execution_count": 317,
   "id": "d93a874f",
   "metadata": {},
   "outputs": [
    {
     "name": "stdout",
     "output_type": "stream",
     "text": [
      "Total returns of Strategy 2 = 0.18663910690412558\n"
     ]
    }
   ],
   "source": [
    "print('Total returns of Strategy 2 =',Total_returns_strategy_2)"
   ]
  },
  {
   "cell_type": "code",
   "execution_count": 318,
   "id": "55f9657a",
   "metadata": {},
   "outputs": [],
   "source": [
    "std_dev2 = Strategy_2['Return'].std()"
   ]
  },
  {
   "cell_type": "code",
   "execution_count": 319,
   "id": "d42688eb",
   "metadata": {},
   "outputs": [
    {
     "name": "stdout",
     "output_type": "stream",
     "text": [
      "Annual Risk of Strategy 2 = 0.15319427021344442\n"
     ]
    }
   ],
   "source": [
    "Risk_strategy_2 =std_dev2*np.sqrt(252)\n",
    "print('Annual Risk of Strategy 2 =',Risk_strategy_2)"
   ]
  },
  {
   "cell_type": "markdown",
   "id": "83b39b01",
   "metadata": {},
   "source": [
    "# Change in Investment value over the time period"
   ]
  },
  {
   "cell_type": "code",
   "execution_count": 320,
   "id": "90cb6d6a",
   "metadata": {},
   "outputs": [
    {
     "data": {
      "image/png": "[encoded data removed]",
      "text/plain": [
       "<Figure size 640x480 with 1 Axes>"
      ]
     },
     "metadata": {},
     "output_type": "display_data"
    }
   ],
   "source": [
    "(\n",
    "Strategy_2\n",
    "    ['Investment Amount']\n",
    "    .pct_change()\n",
    "    .add(1)\n",
    "    .cumprod()\n",
    "    .sub(1)\n",
    "    .mul(100)\n",
    "    .plot()\n",
    ")\n",
    "plt.xlabel('date')\n",
    "plt.show()"
   ]
  },
  {
   "cell_type": "markdown",
   "id": "244d08c3",
   "metadata": {},
   "source": [
    "# Change in Investment value over the time period"
   ]
  },
  {
   "cell_type": "code",
   "execution_count": 321,
   "id": "bd2e9e69",
   "metadata": {},
   "outputs": [
    {
     "data": {
      "image/png": "[encoded data removed]",
      "text/plain": [
       "<Figure size 640x480 with 1 Axes>"
      ]
     },
     "metadata": {},
     "output_type": "display_data"
    }
   ],
   "source": [
    "(\n",
    "strategy_2\n",
    "    ['Investment Amount']\n",
    "    .pct_change()\n",
    "    .add(1)\n",
    "    .cumprod()\n",
    "    .sub(1)\n",
    "    .mul(100)\n",
    "    .plot()\n",
    ")\n",
    "plt.xlabel('date')\n",
    "plt.show()"
   ]
  },
  {
   "cell_type": "markdown",
   "id": "35405277",
   "metadata": {},
   "source": [
    " - In Strategy 2 we are buying at the open price and selling at the close price of the spy, which means we can never be eligible for the payment of a dividend as you need to hold a stock for at least 2 days prior to the record date and we disobey that rule as we never really own the ETF as we always sell it at the close price. "
   ]
  },
  {
   "cell_type": "markdown",
   "id": "3f9ccb63",
   "metadata": {},
   "source": [
    "# Strategy3"
   ]
  },
  {
   "cell_type": "code",
   "execution_count": 322,
   "id": "fb42d315",
   "metadata": {},
   "outputs": [
    {
     "data": {
      "text/html": [
       "<div>\n",
       "<style scoped>\n",
       "    .dataframe tbody tr th:only-of-type {\n",
       "        vertical-align: middle;\n",
       "    }\n",
       "\n",
       "    .dataframe tbody tr th {\n",
       "        vertical-align: top;\n",
       "    }\n",
       "\n",
       "    .dataframe thead th {\n",
       "        text-align: right;\n",
       "    }\n",
       "</style>\n",
       "<table border=\"1\" class=\"dataframe\">\n",
       "  <thead>\n",
       "    <tr style=\"text-align: right;\">\n",
       "      <th></th>\n",
       "      <th>Open</th>\n",
       "      <th>Close</th>\n",
       "    </tr>\n",
       "    <tr>\n",
       "      <th>Date</th>\n",
       "      <th></th>\n",
       "      <th></th>\n",
       "    </tr>\n",
       "  </thead>\n",
       "  <tbody>\n",
       "    <tr>\n",
       "      <th>1993-01-29</th>\n",
       "      <td>43.968750</td>\n",
       "      <td>43.937500</td>\n",
       "    </tr>\n",
       "    <tr>\n",
       "      <th>1993-01-02</th>\n",
       "      <td>43.968750</td>\n",
       "      <td>44.250000</td>\n",
       "    </tr>\n",
       "    <tr>\n",
       "      <th>1993-02-02</th>\n",
       "      <td>44.218750</td>\n",
       "      <td>44.343750</td>\n",
       "    </tr>\n",
       "    <tr>\n",
       "      <th>1993-03-02</th>\n",
       "      <td>44.406250</td>\n",
       "      <td>44.812500</td>\n",
       "    </tr>\n",
       "    <tr>\n",
       "      <th>1993-04-02</th>\n",
       "      <td>44.968750</td>\n",
       "      <td>45.000000</td>\n",
       "    </tr>\n",
       "    <tr>\n",
       "      <th>...</th>\n",
       "      <td>...</td>\n",
       "      <td>...</td>\n",
       "    </tr>\n",
       "    <tr>\n",
       "      <th>2024-02-16</th>\n",
       "      <td>501.700012</td>\n",
       "      <td>499.510010</td>\n",
       "    </tr>\n",
       "    <tr>\n",
       "      <th>2024-02-20</th>\n",
       "      <td>497.720001</td>\n",
       "      <td>496.760010</td>\n",
       "    </tr>\n",
       "    <tr>\n",
       "      <th>2024-02-21</th>\n",
       "      <td>495.420013</td>\n",
       "      <td>497.209991</td>\n",
       "    </tr>\n",
       "    <tr>\n",
       "      <th>2024-02-22</th>\n",
       "      <td>504.010010</td>\n",
       "      <td>507.500000</td>\n",
       "    </tr>\n",
       "    <tr>\n",
       "      <th>2024-02-23</th>\n",
       "      <td>509.269989</td>\n",
       "      <td>508.010010</td>\n",
       "    </tr>\n",
       "  </tbody>\n",
       "</table>\n",
       "<p>7823 rows × 2 columns</p>\n",
       "</div>"
      ],
      "text/plain": [
       "                  Open       Close\n",
       "Date                              \n",
       "1993-01-29   43.968750   43.937500\n",
       "1993-01-02   43.968750   44.250000\n",
       "1993-02-02   44.218750   44.343750\n",
       "1993-03-02   44.406250   44.812500\n",
       "1993-04-02   44.968750   45.000000\n",
       "...                ...         ...\n",
       "2024-02-16  501.700012  499.510010\n",
       "2024-02-20  497.720001  496.760010\n",
       "2024-02-21  495.420013  497.209991\n",
       "2024-02-22  504.010010  507.500000\n",
       "2024-02-23  509.269989  508.010010\n",
       "\n",
       "[7823 rows x 2 columns]"
      ]
     },
     "execution_count": 322,
     "metadata": {},
     "output_type": "execute_result"
    }
   ],
   "source": [
    "spy1 = spy.iloc[:,[0,3]]\n",
    "spy1"
   ]
  },
  {
   "cell_type": "code",
   "execution_count": 323,
   "id": "7523bae5",
   "metadata": {},
   "outputs": [
    {
     "data": {
      "text/html": [
       "<div>\n",
       "<style scoped>\n",
       "    .dataframe tbody tr th:only-of-type {\n",
       "        vertical-align: middle;\n",
       "    }\n",
       "\n",
       "    .dataframe tbody tr th {\n",
       "        vertical-align: top;\n",
       "    }\n",
       "\n",
       "    .dataframe thead th {\n",
       "        text-align: right;\n",
       "    }\n",
       "</style>\n",
       "<table border=\"1\" class=\"dataframe\">\n",
       "  <thead>\n",
       "    <tr style=\"text-align: right;\">\n",
       "      <th></th>\n",
       "      <th>Investment Amount</th>\n",
       "      <th>Profit/Loss</th>\n",
       "      <th>Return</th>\n",
       "    </tr>\n",
       "  </thead>\n",
       "  <tbody>\n",
       "    <tr>\n",
       "      <th>0</th>\n",
       "      <td>10000.000000</td>\n",
       "      <td>7.112376</td>\n",
       "      <td>0.000711</td>\n",
       "    </tr>\n",
       "    <tr>\n",
       "      <th>1</th>\n",
       "      <td>10007.112376</td>\n",
       "      <td>-7.067170</td>\n",
       "      <td>-0.000706</td>\n",
       "    </tr>\n",
       "    <tr>\n",
       "      <th>2</th>\n",
       "      <td>10000.045206</td>\n",
       "      <td>14.094496</td>\n",
       "      <td>0.001409</td>\n",
       "    </tr>\n",
       "    <tr>\n",
       "      <th>3</th>\n",
       "      <td>10014.139702</td>\n",
       "      <td>34.916805</td>\n",
       "      <td>0.003487</td>\n",
       "    </tr>\n",
       "    <tr>\n",
       "      <th>4</th>\n",
       "      <td>10049.056507</td>\n",
       "      <td>-6.978511</td>\n",
       "      <td>-0.000694</td>\n",
       "    </tr>\n",
       "    <tr>\n",
       "      <th>...</th>\n",
       "      <td>...</td>\n",
       "      <td>...</td>\n",
       "      <td>...</td>\n",
       "    </tr>\n",
       "    <tr>\n",
       "      <th>7817</th>\n",
       "      <td>96621.639915</td>\n",
       "      <td>-59.665175</td>\n",
       "      <td>-0.000618</td>\n",
       "    </tr>\n",
       "    <tr>\n",
       "      <th>7818</th>\n",
       "      <td>96561.974740</td>\n",
       "      <td>-346.032713</td>\n",
       "      <td>-0.003584</td>\n",
       "    </tr>\n",
       "    <tr>\n",
       "      <th>7819</th>\n",
       "      <td>96215.942027</td>\n",
       "      <td>-259.539961</td>\n",
       "      <td>-0.002697</td>\n",
       "    </tr>\n",
       "    <tr>\n",
       "      <th>7820</th>\n",
       "      <td>95956.402066</td>\n",
       "      <td>1312.333559</td>\n",
       "      <td>0.013676</td>\n",
       "    </tr>\n",
       "    <tr>\n",
       "      <th>7821</th>\n",
       "      <td>97268.735625</td>\n",
       "      <td>339.240576</td>\n",
       "      <td>0.003488</td>\n",
       "    </tr>\n",
       "  </tbody>\n",
       "</table>\n",
       "<p>7822 rows × 3 columns</p>\n",
       "</div>"
      ],
      "text/plain": [
       "      Investment Amount  Profit/Loss    Return\n",
       "0          10000.000000     7.112376  0.000711\n",
       "1          10007.112376    -7.067170 -0.000706\n",
       "2          10000.045206    14.094496  0.001409\n",
       "3          10014.139702    34.916805  0.003487\n",
       "4          10049.056507    -6.978511 -0.000694\n",
       "...                 ...          ...       ...\n",
       "7817       96621.639915   -59.665175 -0.000618\n",
       "7818       96561.974740  -346.032713 -0.003584\n",
       "7819       96215.942027  -259.539961 -0.002697\n",
       "7820       95956.402066  1312.333559  0.013676\n",
       "7821       97268.735625   339.240576  0.003488\n",
       "\n",
       "[7822 rows x 3 columns]"
      ]
     },
     "execution_count": 323,
     "metadata": {},
     "output_type": "execute_result"
    }
   ],
   "source": [
    "initial_investment = 10000\n",
    "current_balance = initial_investment\n",
    "\n",
    "Invested=[]\n",
    "Gains = []\n",
    "Returns = []\n",
    "for i in range(len(spy1)-1):\n",
    "    shares_bought = current_balance/spy1['Close'][i]\n",
    "    investment = current_balance\n",
    "    amount_spent = shares_bought * spy1['Close'][i]\n",
    "    amount_received = shares_bought*spy1['Open'][i+1]\n",
    "    change_in_capital = amount_received\n",
    "    gains_losses = amount_received - investment\n",
    "    returns = gains_losses/investment\n",
    "    \n",
    "    Invested.append(investment)\n",
    "    Gains.append(gains_losses)\n",
    "    Returns.append(returns)\n",
    "    \n",
    "    current_balance = change_in_capital\n",
    "    \n",
    "Strategy_3 = pd.DataFrame({\n",
    "    'Investment Amount': Invested,\n",
    "    'Profit/Loss': Gains,\n",
    "    'Return': Returns\n",
    "})\n",
    "    \n",
    "\n",
    "Strategy_3"
   ]
  },
  {
   "cell_type": "code",
   "execution_count": 324,
   "id": "043b2c6b",
   "metadata": {},
   "outputs": [
    {
     "name": "stdout",
     "output_type": "stream",
     "text": [
      "Initial Value = 10000.0\n",
      "Final Value = 97268.73562533264\n",
      "Total Returns of Strategy 3 = 8.726873562533264\n",
      "Annual Risk of Strategy 3 = 0.10642743367291121\n"
     ]
    }
   ],
   "source": [
    "print('Initial Value =',float(Strategy_2.iloc[0,[0]]))\n",
    "print('Final Value =',float(Strategy_3.iloc[-1,[0]]))\n",
    "print('Total Returns of Strategy 3 =',Total_returns_strategy_3)\n",
    "print('Annual Risk of Strategy 3 =',Risk_strategy_3)"
   ]
  },
  {
   "cell_type": "code",
   "execution_count": 325,
   "id": "a5d89956",
   "metadata": {},
   "outputs": [],
   "source": [
    "Strategy_3= Strategy_3.set_index(date[1:])"
   ]
  },
  {
   "cell_type": "code",
   "execution_count": 326,
   "id": "fe6f588c",
   "metadata": {},
   "outputs": [],
   "source": [
    "Total_returns_strategy_3 = (float(Strategy_3.iloc[-1,[0]])-float(Strategy_3.iloc[0,[0]]))/(float(Strategy_3.iloc[0,[0]]))\n"
   ]
  },
  {
   "cell_type": "code",
   "execution_count": 327,
   "id": "400fbb16",
   "metadata": {},
   "outputs": [],
   "source": [
    "Risk_strategy_3 = Strategy_3['Return'].std()*np.sqrt(252)"
   ]
  },
  {
   "cell_type": "markdown",
   "id": "9c68c0a7",
   "metadata": {},
   "source": [
    "# Change in Investment value over the time period"
   ]
  },
  {
   "cell_type": "code",
   "execution_count": 328,
   "id": "5963cdd1",
   "metadata": {},
   "outputs": [
    {
     "data": {
      "image/png": "[encoded data removed]",
      "text/plain": [
       "<Figure size 640x480 with 1 Axes>"
      ]
     },
     "metadata": {},
     "output_type": "display_data"
    }
   ],
   "source": [
    "(\n",
    "Strategy_3\n",
    "    ['Investment Amount']\n",
    "    .pct_change()\n",
    "    .add(1)\n",
    "    .cumprod()\n",
    "    .sub(1)\n",
    "    .mul(100)\n",
    "    .plot(linestyle='-')\n",
    ")\n",
    "plt.xlabel('date')\n",
    "plt.show()"
   ]
  },
  {
   "cell_type": "markdown",
   "id": "13a307d6",
   "metadata": {},
   "source": [
    "- If we see the SPY’s prices in the form of candlesticks, we would see that sometimes the stocks open price on a day is way higher than the previous days closing price, which I call a gap-up opening. So if we buy the SPY at the close price and sell it at the open price we would miss out on the gains. Therefore in strategy 2 we miss out on these gap up gains. We capture these gains in strategy 3 but we forgo the gains that occur during the day.\n"
   ]
  },
  {
   "cell_type": "markdown",
   "id": "f2b678f9",
   "metadata": {},
   "source": [
    "# strategy 4"
   ]
  },
  {
   "cell_type": "code",
   "execution_count": 329,
   "id": "d3947f9b",
   "metadata": {},
   "outputs": [
    {
     "data": {
      "text/html": [
       "<div>\n",
       "<style scoped>\n",
       "    .dataframe tbody tr th:only-of-type {\n",
       "        vertical-align: middle;\n",
       "    }\n",
       "\n",
       "    .dataframe tbody tr th {\n",
       "        vertical-align: top;\n",
       "    }\n",
       "\n",
       "    .dataframe thead th {\n",
       "        text-align: right;\n",
       "    }\n",
       "</style>\n",
       "<table border=\"1\" class=\"dataframe\">\n",
       "  <thead>\n",
       "    <tr style=\"text-align: right;\">\n",
       "      <th></th>\n",
       "      <th>Open</th>\n",
       "      <th>High</th>\n",
       "      <th>Low</th>\n",
       "      <th>Close</th>\n",
       "      <th>Adj Close</th>\n",
       "      <th>Volume</th>\n",
       "    </tr>\n",
       "    <tr>\n",
       "      <th>Date</th>\n",
       "      <th></th>\n",
       "      <th></th>\n",
       "      <th></th>\n",
       "      <th></th>\n",
       "      <th></th>\n",
       "      <th></th>\n",
       "    </tr>\n",
       "  </thead>\n",
       "  <tbody>\n",
       "    <tr>\n",
       "      <th>1993-01-29</th>\n",
       "      <td>43.968750</td>\n",
       "      <td>43.968750</td>\n",
       "      <td>43.750000</td>\n",
       "      <td>43.937500</td>\n",
       "      <td>24.840685</td>\n",
       "      <td>1003200</td>\n",
       "    </tr>\n",
       "    <tr>\n",
       "      <th>1993-01-02</th>\n",
       "      <td>43.968750</td>\n",
       "      <td>44.250000</td>\n",
       "      <td>43.968750</td>\n",
       "      <td>44.250000</td>\n",
       "      <td>25.017347</td>\n",
       "      <td>480500</td>\n",
       "    </tr>\n",
       "    <tr>\n",
       "      <th>1993-02-02</th>\n",
       "      <td>44.218750</td>\n",
       "      <td>44.375000</td>\n",
       "      <td>44.125000</td>\n",
       "      <td>44.343750</td>\n",
       "      <td>25.070368</td>\n",
       "      <td>201300</td>\n",
       "    </tr>\n",
       "    <tr>\n",
       "      <th>1993-03-02</th>\n",
       "      <td>44.406250</td>\n",
       "      <td>44.843750</td>\n",
       "      <td>44.375000</td>\n",
       "      <td>44.812500</td>\n",
       "      <td>25.335379</td>\n",
       "      <td>529400</td>\n",
       "    </tr>\n",
       "    <tr>\n",
       "      <th>1993-04-02</th>\n",
       "      <td>44.968750</td>\n",
       "      <td>45.093750</td>\n",
       "      <td>44.468750</td>\n",
       "      <td>45.000000</td>\n",
       "      <td>25.441374</td>\n",
       "      <td>531500</td>\n",
       "    </tr>\n",
       "    <tr>\n",
       "      <th>...</th>\n",
       "      <td>...</td>\n",
       "      <td>...</td>\n",
       "      <td>...</td>\n",
       "      <td>...</td>\n",
       "      <td>...</td>\n",
       "      <td>...</td>\n",
       "    </tr>\n",
       "    <tr>\n",
       "      <th>2024-02-16</th>\n",
       "      <td>501.700012</td>\n",
       "      <td>502.869995</td>\n",
       "      <td>498.750000</td>\n",
       "      <td>499.510010</td>\n",
       "      <td>499.510010</td>\n",
       "      <td>75461200</td>\n",
       "    </tr>\n",
       "    <tr>\n",
       "      <th>2024-02-20</th>\n",
       "      <td>497.720001</td>\n",
       "      <td>498.410004</td>\n",
       "      <td>494.450012</td>\n",
       "      <td>496.760010</td>\n",
       "      <td>496.760010</td>\n",
       "      <td>71736700</td>\n",
       "    </tr>\n",
       "    <tr>\n",
       "      <th>2024-02-21</th>\n",
       "      <td>495.420013</td>\n",
       "      <td>497.369995</td>\n",
       "      <td>493.559998</td>\n",
       "      <td>497.209991</td>\n",
       "      <td>497.209991</td>\n",
       "      <td>59603800</td>\n",
       "    </tr>\n",
       "    <tr>\n",
       "      <th>2024-02-22</th>\n",
       "      <td>504.010010</td>\n",
       "      <td>508.489990</td>\n",
       "      <td>503.019989</td>\n",
       "      <td>507.500000</td>\n",
       "      <td>507.500000</td>\n",
       "      <td>76402500</td>\n",
       "    </tr>\n",
       "    <tr>\n",
       "      <th>2024-02-23</th>\n",
       "      <td>509.269989</td>\n",
       "      <td>510.130005</td>\n",
       "      <td>507.100006</td>\n",
       "      <td>508.010010</td>\n",
       "      <td>508.010010</td>\n",
       "      <td>34022580</td>\n",
       "    </tr>\n",
       "  </tbody>\n",
       "</table>\n",
       "<p>7823 rows × 6 columns</p>\n",
       "</div>"
      ],
      "text/plain": [
       "                  Open        High         Low       Close   Adj Close  \\\n",
       "Date                                                                     \n",
       "1993-01-29   43.968750   43.968750   43.750000   43.937500   24.840685   \n",
       "1993-01-02   43.968750   44.250000   43.968750   44.250000   25.017347   \n",
       "1993-02-02   44.218750   44.375000   44.125000   44.343750   25.070368   \n",
       "1993-03-02   44.406250   44.843750   44.375000   44.812500   25.335379   \n",
       "1993-04-02   44.968750   45.093750   44.468750   45.000000   25.441374   \n",
       "...                ...         ...         ...         ...         ...   \n",
       "2024-02-16  501.700012  502.869995  498.750000  499.510010  499.510010   \n",
       "2024-02-20  497.720001  498.410004  494.450012  496.760010  496.760010   \n",
       "2024-02-21  495.420013  497.369995  493.559998  497.209991  497.209991   \n",
       "2024-02-22  504.010010  508.489990  503.019989  507.500000  507.500000   \n",
       "2024-02-23  509.269989  510.130005  507.100006  508.010010  508.010010   \n",
       "\n",
       "              Volume  \n",
       "Date                  \n",
       "1993-01-29   1003200  \n",
       "1993-01-02    480500  \n",
       "1993-02-02    201300  \n",
       "1993-03-02    529400  \n",
       "1993-04-02    531500  \n",
       "...              ...  \n",
       "2024-02-16  75461200  \n",
       "2024-02-20  71736700  \n",
       "2024-02-21  59603800  \n",
       "2024-02-22  76402500  \n",
       "2024-02-23  34022580  \n",
       "\n",
       "[7823 rows x 6 columns]"
      ]
     },
     "execution_count": 329,
     "metadata": {},
     "output_type": "execute_result"
    }
   ],
   "source": [
    "spy"
   ]
  },
  {
   "cell_type": "code",
   "execution_count": 330,
   "id": "89e1a653",
   "metadata": {},
   "outputs": [],
   "source": [
    "daily_rets = spy['Adj Close'].pct_change()\n",
    "daily_rets1 = spy['Adj Close'].pct_change()\n",
    "daily_rets2 = spy['Adj Close'].pct_change()\n"
   ]
  },
  {
   "cell_type": "code",
   "execution_count": 331,
   "id": "554ee87b",
   "metadata": {},
   "outputs": [],
   "source": [
    "daily_rets_min_1 = daily_rets1.sort_values(ascending=True)\n",
    "\n",
    "\n",
    "daily_rets_max_1 = daily_rets1.sort_values(ascending = False)\n",
    "\n",
    "\n",
    "max_1_ret = daily_rets_max_1[0]\n",
    "min_1_ret = daily_rets_min_1[0]\n",
    "\n",
    "daily_rets1['13/10/08'] = 0\n",
    "daily_rets1['16/03/20'] = 0\n",
    "\n",
    "cum_ret1 = daily_rets1.add(1).cumprod().sub(1).mul(100)\n"
   ]
  },
  {
   "cell_type": "code",
   "execution_count": 332,
   "id": "e2411baf",
   "metadata": {},
   "outputs": [],
   "source": [
    "daily_rets_min_2 = daily_rets2.sort_values(ascending=True)\n",
    "\n",
    "\n",
    "daily_rets_max_2 = daily_rets2.sort_values(ascending = False)\n",
    "\n",
    "\n",
    "max_2_ret = daily_rets_max_2[0:2]\n",
    "min_2_ret = daily_rets_min_2[0:2]\n",
    "\n",
    "daily_rets2['13/10/08'] = 0\n",
    "daily_rets2['16/03/20'] = 0\n",
    "daily_rets2['28/10/08'] = 0\n",
    "daily_rets2['15/10/08'] = 0\n",
    "\n",
    "cum_ret2 = daily_rets2.add(1).cumprod().sub(1).mul(100)\n"
   ]
  },
  {
   "cell_type": "code",
   "execution_count": 333,
   "id": "d76f8210",
   "metadata": {},
   "outputs": [],
   "source": [
    "daily_rets_min_3 = daily_rets.sort_values(ascending=True)\n"
   ]
  },
  {
   "cell_type": "code",
   "execution_count": 334,
   "id": "b775503b",
   "metadata": {},
   "outputs": [],
   "source": [
    "daily_rets_max_3 = daily_rets.sort_values(ascending = False)\n"
   ]
  },
  {
   "cell_type": "code",
   "execution_count": 361,
   "id": "111ce517",
   "metadata": {},
   "outputs": [],
   "source": [
    "max_3_values = daily_rets_max_3.iloc[:3]\n"
   ]
  },
  {
   "cell_type": "code",
   "execution_count": 362,
   "id": "9e0bfe02",
   "metadata": {},
   "outputs": [],
   "source": [
    "min_3_values = daily_rets_min_3.iloc[:3]\n"
   ]
  },
  {
   "cell_type": "code",
   "execution_count": 344,
   "id": "6923deee",
   "metadata": {},
   "outputs": [],
   "source": [
    "daily_rets['16/03/20'] = 0\n",
    "daily_rets['15/10/08'] = 0\n",
    "daily_rets['12/03/20'] = 0\n",
    "daily_rets['13/10/08'] = 0\n",
    "daily_rets['28/10/08'] = 0\n",
    "daily_rets['24/03/20'] = 0"
   ]
  },
  {
   "cell_type": "code",
   "execution_count": 360,
   "id": "06a00839",
   "metadata": {},
   "outputs": [],
   "source": [
    "cum_ret = daily_rets.add(1).cumprod().sub(1).mul(100)\n"
   ]
  },
  {
   "cell_type": "code",
   "execution_count": 365,
   "id": "03dcad5b",
   "metadata": {},
   "outputs": [],
   "source": [
    "Total_returns_strategy_4_n_3 = cum_ret[-1]\n",
    "Total_returns_strategy_4_n_2 = cum_ret2[-1]\n",
    "Total_returns_strategy_4_n_1 = cum_ret1[-1]\n"
   ]
  },
  {
   "cell_type": "code",
   "execution_count": 366,
   "id": "08f38ec3",
   "metadata": {},
   "outputs": [
    {
     "name": "stdout",
     "output_type": "stream",
     "text": [
      "Total returns of Strategy 4  where n is 1 = 1905.198978988837\n",
      "Total returns strategy 4 where n is 2 = 1891.4500630346133\n",
      "Total returns of Strategy 4 where n is 3 = 1919.1993090113378\n",
      "Annual Risk of Strategy 4 where n is 1= 0.1825339007728034\n",
      "Annual Risk of Strategy 4 where n is 2= 0.1845815822636617\n",
      "Annual Risk of Strategy 4 where n is 3= 0.18099453993320716\n"
     ]
    }
   ],
   "source": [
    "print('Total returns of Strategy 4  where n is 1 =',Total_returns_strategy_4_n_1)\n",
    "\n",
    "print('Total returns strategy 4 where n is 2 =',Total_returns_strategy_4_n_2)\n",
    "\n",
    "print('Total returns of Strategy 4 where n is 3 =',Total_returns_strategy_4_n_3)\n",
    "\n",
    "print('Annual Risk of Strategy 4 where n is 1=',Risk_strategy_4_n_1)\n",
    "\n",
    "print('Annual Risk of Strategy 4 where n is 2=',Risk_strategy_4_n_2)\n",
    "\n",
    "print('Annual Risk of Strategy 4 where n is 3=',Risk_strategy_4_n_3)"
   ]
  },
  {
   "cell_type": "code",
   "execution_count": 348,
   "id": "826b0376",
   "metadata": {},
   "outputs": [],
   "source": [
    "Risk_strategy_4_n_3 = daily_rets.std()*np.sqrt(252)\n",
    "Risk_strategy_4_n_2 = daily_rets1.std()*np.sqrt(252)\n",
    "Risk_strategy_4_n_1 = daily_rets2.std()*np.sqrt(252)"
   ]
  },
  {
   "cell_type": "markdown",
   "id": "a5a124c1",
   "metadata": {},
   "source": [
    "# Change in Investment value over the time period"
   ]
  },
  {
   "cell_type": "code",
   "execution_count": 367,
   "id": "ef1a28b0",
   "metadata": {},
   "outputs": [
    {
     "data": {
      "image/png": "[encoded data removed]",
      "text/plain": [
       "<Figure size 640x480 with 1 Axes>"
      ]
     },
     "metadata": {},
     "output_type": "display_data"
    }
   ],
   "source": [
    "(\n",
    "    daily_rets\n",
    "    .add(1)\n",
    "    .cumprod()\n",
    "    .sub(1)\n",
    "    .mul(100)\n",
    "    .plot()\n",
    ")\n",
    "plt.xlabel('date')\n",
    "plt.show()"
   ]
  },
  {
   "cell_type": "markdown",
   "id": "82773612",
   "metadata": {},
   "source": [
    "- This strategy is similar to the first strategy, the only change is that we are eliminating the highest 3 returns and the lowest 3 returns. This results in us having a slightly lesser risk and return than the first strategy, which has the highest risk and return. Overall this strategy has performed better than the 2nd and 3rd strategy. By eliminating the extreme values we smoothen the data. "
   ]
  },
  {
   "cell_type": "code",
   "execution_count": 358,
   "id": "6592f144",
   "metadata": {},
   "outputs": [
    {
     "data": {
      "text/html": [
       "<div>\n",
       "<style scoped>\n",
       "    .dataframe tbody tr th:only-of-type {\n",
       "        vertical-align: middle;\n",
       "    }\n",
       "\n",
       "    .dataframe tbody tr th {\n",
       "        vertical-align: top;\n",
       "    }\n",
       "\n",
       "    .dataframe thead th {\n",
       "        text-align: right;\n",
       "    }\n",
       "</style>\n",
       "<table border=\"1\" class=\"dataframe\">\n",
       "  <thead>\n",
       "    <tr style=\"text-align: right;\">\n",
       "      <th></th>\n",
       "      <th>index</th>\n",
       "      <th>Total_returns</th>\n",
       "      <th>Annual Risk</th>\n",
       "    </tr>\n",
       "  </thead>\n",
       "  <tbody>\n",
       "    <tr>\n",
       "      <th>0</th>\n",
       "      <td>Strategy_1</td>\n",
       "      <td>1945.072469</td>\n",
       "      <td>0.187442</td>\n",
       "    </tr>\n",
       "    <tr>\n",
       "      <th>1</th>\n",
       "      <td>Strategy_2</td>\n",
       "      <td>0.186639</td>\n",
       "      <td>0.153194</td>\n",
       "    </tr>\n",
       "    <tr>\n",
       "      <th>2</th>\n",
       "      <td>Strategy_3</td>\n",
       "      <td>8.726874</td>\n",
       "      <td>0.106427</td>\n",
       "    </tr>\n",
       "    <tr>\n",
       "      <th>3</th>\n",
       "      <td>Strategy_4_n_3</td>\n",
       "      <td>1919.199309</td>\n",
       "      <td>0.180995</td>\n",
       "    </tr>\n",
       "    <tr>\n",
       "      <th>4</th>\n",
       "      <td>Strategy_4_n_2</td>\n",
       "      <td>1891.450063</td>\n",
       "      <td>0.184582</td>\n",
       "    </tr>\n",
       "    <tr>\n",
       "      <th>5</th>\n",
       "      <td>Strategy_4_n_1</td>\n",
       "      <td>1905.198979</td>\n",
       "      <td>0.182534</td>\n",
       "    </tr>\n",
       "  </tbody>\n",
       "</table>\n",
       "</div>"
      ],
      "text/plain": [
       "            index  Total_returns  Annual Risk\n",
       "0      Strategy_1    1945.072469     0.187442\n",
       "1      Strategy_2       0.186639     0.153194\n",
       "2      Strategy_3       8.726874     0.106427\n",
       "3  Strategy_4_n_3    1919.199309     0.180995\n",
       "4  Strategy_4_n_2    1891.450063     0.184582\n",
       "5  Strategy_4_n_1    1905.198979     0.182534"
      ]
     },
     "execution_count": 358,
     "metadata": {},
     "output_type": "execute_result"
    }
   ],
   "source": [
    "df = pd.DataFrame({\n",
    "    'index':['Strategy_1','Strategy_2','Strategy_3','Strategy_4_n_3','Strategy_4_n_2','Strategy_4_n_1'],\n",
    "    'Total_returns':[Total_returns_strategy_1,Total_returns_strategy_2,Total_returns_strategy_3,Total_returns_strategy_4_n_3,Total_returns_strategy_4_n_2,Total_returns_strategy_4_n_1],\n",
    "    'Annual Risk' : [Risk_strategy_1,Risk_strategy_2,Risk_strategy_3,Risk_strategy_4_n_3,Risk_strategy_4_n_2,Risk_strategy_4_n_1]\n",
    "})\n"
   ]
  },
  {
   "cell_type": "markdown",
   "id": "84ba2fc6",
   "metadata": {},
   "source": [
    "# Summary of risk and return of all strategies"
   ]
  },
  {
   "cell_type": "code",
   "execution_count": 359,
   "id": "5274e1a2",
   "metadata": {},
   "outputs": [
    {
     "name": "stdout",
     "output_type": "stream",
     "text": [
      "            index  Total_returns  Annual Risk\n",
      "0      Strategy_1    1945.072469     0.187442\n",
      "1      Strategy_2       0.186639     0.153194\n",
      "2      Strategy_3       8.726874     0.106427\n",
      "3  Strategy_4_n_3    1919.199309     0.180995\n",
      "4  Strategy_4_n_2    1891.450063     0.184582\n",
      "5  Strategy_4_n_1    1905.198979     0.182534\n"
     ]
    }
   ],
   "source": [
    "print(df)"
   ]
  },
  {
   "cell_type": "markdown",
   "id": "d671f9c9",
   "metadata": {},
   "source": [
    "# Interpretation"
   ]
  },
  {
   "cell_type": "markdown",
   "id": "515ffb9b",
   "metadata": {},
   "source": [
    "- According to our Analysis, strategy 1 gives the best returns as you are holding the spy throughout without any breaks in between, so we benefit from the dividends as well as the capital gains.\n",
    "- Strategy 2 gives the lowest returns with the lowest risk, as in this strategy we do not benefit from dividends. We also miss out on the gains from gap up opening in the next day. \n",
    "- Strategy 3 allows us to capture the gains from gap up openings and this strategy is better than strategy 2 whereby it provides better returns at a lower risk. \n",
    "- A risk averse investor can consider strategy 4 and its different elements. Eliminating the best 3 and worst 3 returns provides the highest returns at a lower risk than eliminating either the best/worst 2 returns or best/worst 1 return "
   ]
  },
  {
   "cell_type": "markdown",
   "id": "c75a1f1b",
   "metadata": {},
   "source": [
    "# Limitations"
   ]
  },
  {
   "cell_type": "markdown",
   "id": "95f37c3d",
   "metadata": {},
   "source": [
    "- The real world limitations of executing these strategies are that no one can perfectly buy and sell exactly at the close and open prices, as we have done in strategy 2 and 3. As no one can predict the exact close and open prices. In the real world we will have to bear transaction costs in terms of brokerage and taxes while executing these strategies and these costs can significantly eat into your returns. "
   ]
  },
  {
   "cell_type": "markdown",
   "id": "00cd6eff",
   "metadata": {},
   "source": [
    "#"
   ]
  }
 ],
 "metadata": {
  "kernelspec": {
   "display_name": "Python 3 (ipykernel)",
   "language": "python",
   "name": "python3"
  },
  "language_info": {
   "codemirror_mode": {
    "name": "ipython",
    "version": 3
   },
   "file_extension": ".py",
   "mimetype": "text/x-python",
   "name": "python",
   "nbconvert_exporter": "python",
   "pygments_lexer": "ipython3",
   "version": "3.10.13"
  }
 },
 "nbformat": 4,
 "nbformat_minor": 5
}
